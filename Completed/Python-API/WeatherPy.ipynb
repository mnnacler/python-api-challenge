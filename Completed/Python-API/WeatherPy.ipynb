{
 "cells": [
  {
   "cell_type": "markdown",
   "metadata": {},
   "source": [
    "# WeatherPy\n",
    "----\n",
    "\n",
    "#### Note\n",
    "* Instructions have been included for each segment. You do not have to follow them exactly, but they are included to help you think through the steps."
   ]
  },
  {
   "cell_type": "code",
   "execution_count": null,
   "metadata": {},
   "outputs": [],
   "source": [
    "#Observations\n",
    "#1. Latitude has the greatest effect on max temperature. Southern hemisphere latitude vs temperature has a postive \n",
    "#moderate correlation with an r-squared value of 0.52 while northern hemisphere latitude vs temerature has a negative\n",
    "#strong correlation with an r-squared value of 0.77\n",
    "#2. The other correlations are very weak suggesting latitude has little to no effect on wind speed, cloudiness or humidity.\n",
    "#3. Judging by the graphs of southern and northern hemisphere data points, there are significantly more data points for \n",
    "#locations in the norhtern hemisphere. To have a true comparison, it would be good to have an equal number of data points\n",
    "#for both hemispheres."
   ]
  },
  {
   "cell_type": "code",
   "execution_count": 5,
   "metadata": {
    "scrolled": true
   },
   "outputs": [],
   "source": [
    "# Dependencies and Setup\n",
    "import matplotlib.pyplot as plt\n",
    "import pandas as pd\n",
    "import numpy as np\n",
    "import requests\n",
    "import time\n",
    "import json\n",
    "from scipy.stats import linregress\n",
    "\n",
    "# Import API key\n",
    "from api_keys import weather_api_key\n",
    "\n",
    "# Incorporated citipy to determine city based on latitude and longitude\n",
    "from citipy import citipy\n",
    "\n",
    "# Output File (CSV)\n",
    "output_data_file = \"output_data/cities.csv\"\n",
    "\n",
    "# Range of latitudes and longitudes\n",
    "lat_range = (-90, 90)\n",
    "lng_range = (-180, 180)"
   ]
  },
  {
   "cell_type": "markdown",
   "metadata": {},
   "source": [
    "## Generate Cities List"
   ]
  },
  {
   "cell_type": "code",
   "execution_count": 3,
   "metadata": {},
   "outputs": [
    {
     "data": {
      "text/plain": [
       "625"
      ]
     },
     "execution_count": 3,
     "metadata": {},
     "output_type": "execute_result"
    }
   ],
   "source": [
    "# List for holding lat_lngs and cities\n",
    "lat_lngs = []\n",
    "cities = []\n",
    "\n",
    "# Create a set of random lat and lng combinations\n",
    "lats = np.random.uniform(lat_range[0], lat_range[1], size=1500)\n",
    "lngs = np.random.uniform(lng_range[0], lng_range[1], size=1500)\n",
    "lat_lngs = zip(lats, lngs)\n",
    "\n",
    "# Identify nearest city for each lat, lng combination\n",
    "for lat_lng in lat_lngs:\n",
    "    city = citipy.nearest_city(lat_lng[0], lat_lng[1]).city_name\n",
    "    \n",
    "    # If the city is unique, then add it to a our cities list\n",
    "    if city not in cities:\n",
    "        cities.append(city)\n",
    "\n",
    "# Print the city count to confirm sufficient count\n",
    "len(cities)"
   ]
  },
  {
   "cell_type": "markdown",
   "metadata": {},
   "source": [
    "### Perform API Calls\n",
    "* Perform a weather check on each city using a series of successive API calls.\n",
    "* Include a print log of each city as it'sbeing processed (with the city number and city name).\n"
   ]
  },
  {
   "cell_type": "code",
   "execution_count": 4,
   "metadata": {},
   "outputs": [
    {
     "name": "stdout",
     "output_type": "stream",
     "text": [
      "{\n",
      "    \"coord\": {\n",
      "        \"lon\": -80.84,\n",
      "        \"lat\": 35.23\n",
      "    },\n",
      "    \"weather\": [\n",
      "        {\n",
      "            \"id\": 804,\n",
      "            \"main\": \"Clouds\",\n",
      "            \"description\": \"overcast clouds\",\n",
      "            \"icon\": \"04d\"\n",
      "        }\n",
      "    ],\n",
      "    \"base\": \"stations\",\n",
      "    \"main\": {\n",
      "        \"temp\": 76.32,\n",
      "        \"feels_like\": 79.56,\n",
      "        \"temp_min\": 73.99,\n",
      "        \"temp_max\": 78.01,\n",
      "        \"pressure\": 1024,\n",
      "        \"humidity\": 60\n",
      "    },\n",
      "    \"visibility\": 10000,\n",
      "    \"wind\": {\n",
      "        \"speed\": 1.01,\n",
      "        \"deg\": 99,\n",
      "        \"gust\": 3\n",
      "    },\n",
      "    \"clouds\": {\n",
      "        \"all\": 94\n",
      "    },\n",
      "    \"dt\": 1603318085,\n",
      "    \"sys\": {\n",
      "        \"type\": 3,\n",
      "        \"id\": 2007844,\n",
      "        \"country\": \"US\",\n",
      "        \"sunrise\": 1603280096,\n",
      "        \"sunset\": 1603320032\n",
      "    },\n",
      "    \"timezone\": -14400,\n",
      "    \"id\": 4460243,\n",
      "    \"name\": \"Charlotte\",\n",
      "    \"cod\": 200\n",
      "}\n"
     ]
    }
   ],
   "source": [
    "url = \"http://api.openweathermap.org/data/2.5/weather?q=\"\n",
    "city = \"Charlotte, North Carolina\"\n",
    "url_query = url + city + \"&appid=\" + weather_api_key + \"&units=imperial\"\n",
    "response = requests.get(url_query).json()\n",
    "print(json.dumps(response, indent = 4))"
   ]
  },
  {
   "cell_type": "code",
   "execution_count": 13,
   "metadata": {
    "scrolled": true
   },
   "outputs": [
    {
     "name": "stdout",
     "output_type": "stream",
     "text": [
      "Beginning data retrieval\n",
      "-------------------------------\n",
      "Processing record 1 of set 1 | port hawkesbury\n",
      "Processing record 2 of set 1 | maputo\n",
      "Processing record 3 of set 1 | busselton\n",
      "Processing record 4 of set 1 | kapaa\n",
      "Processing record 5 of set 1 | alice springs\n",
      "Processing record 6 of set 1 | punta arenas\n",
      "Processing record 7 of set 1 | victoria\n",
      "Processing record 8 of set 1 | mareeba\n",
      "Processing record 9 of set 1 | acapulco\n",
      "Processing record 10 of set 1 | verkhoyansk\n",
      "Processing record 11 of set 1 | chuy\n",
      "Processing record 12 of set 1 | cidreira\n",
      "Processing record 13 of set 1 | belushya guba\n",
      "Could not find belushya guba. Skipping.....\n",
      "Processing record 14 of set 1 | tiksi\n",
      "Processing record 15 of set 1 | trelew\n",
      "Processing record 16 of set 1 | yellowknife\n",
      "Processing record 17 of set 1 | kijang\n",
      "Processing record 18 of set 1 | mahebourg\n",
      "Processing record 19 of set 1 | thompson\n",
      "Processing record 20 of set 1 | ushuaia\n",
      "Processing record 21 of set 1 | mataura\n",
      "Processing record 22 of set 1 | rikitea\n",
      "Processing record 23 of set 1 | sioux lookout\n",
      "Processing record 24 of set 1 | khatanga\n",
      "Processing record 25 of set 1 | severo-kurilsk\n",
      "Processing record 26 of set 1 | cape town\n",
      "Processing record 27 of set 1 | banyo\n",
      "Processing record 28 of set 1 | houma\n",
      "Processing record 29 of set 1 | geraldton\n",
      "Processing record 30 of set 1 | vaini\n",
      "Processing record 31 of set 1 | hilo\n",
      "Processing record 32 of set 1 | soe\n",
      "Processing record 33 of set 1 | avarua\n",
      "Processing record 34 of set 1 | kahului\n",
      "Processing record 35 of set 1 | tarragona\n",
      "Processing record 36 of set 1 | saldanha\n",
      "Processing record 37 of set 1 | kaeo\n",
      "Processing record 38 of set 1 | jamestown\n",
      "Processing record 39 of set 1 | nikolskoye\n",
      "Processing record 40 of set 1 | kuche\n",
      "Could not find kuche. Skipping.....\n",
      "Processing record 41 of set 1 | mvuma\n",
      "Processing record 42 of set 1 | puerto ayora\n",
      "Processing record 43 of set 1 | norman wells\n",
      "Processing record 44 of set 1 | komsomolskiy\n",
      "Processing record 45 of set 1 | bethel\n",
      "Processing record 46 of set 1 | bacungan\n",
      "Processing record 47 of set 1 | kabwe\n",
      "Processing record 48 of set 1 | albany\n",
      "Processing record 49 of set 1 | new york\n",
      "Processing record 50 of set 1 | port hardy\n",
      "Processing record 1 of set 2 | nioro\n",
      "Processing record 2 of set 2 | labuhan\n",
      "Processing record 3 of set 2 | marzuq\n",
      "Processing record 4 of set 2 | carnarvon\n",
      "Processing record 5 of set 2 | baglung\n",
      "Processing record 6 of set 2 | amderma\n",
      "Could not find amderma. Skipping.....\n",
      "Processing record 7 of set 2 | kavieng\n",
      "Processing record 8 of set 2 | rawson\n",
      "Processing record 9 of set 2 | nelson bay\n",
      "Processing record 10 of set 2 | wasilla\n",
      "Processing record 11 of set 2 | coahuayana\n",
      "Processing record 12 of set 2 | kodiak\n",
      "Processing record 13 of set 2 | mehamn\n",
      "Processing record 14 of set 2 | abaza\n",
      "Processing record 15 of set 2 | poum\n",
      "Processing record 16 of set 2 | atuona\n",
      "Processing record 17 of set 2 | himora\n",
      "Could not find himora. Skipping.....\n",
      "Processing record 18 of set 2 | hamilton\n",
      "Processing record 19 of set 2 | georgetown\n",
      "Processing record 20 of set 2 | conceicao da barra\n",
      "Processing record 21 of set 2 | half moon bay\n",
      "Processing record 22 of set 2 | butaritari\n",
      "Processing record 23 of set 2 | port-gentil\n",
      "Processing record 24 of set 2 | sisimiut\n",
      "Processing record 25 of set 2 | changde\n",
      "Processing record 26 of set 2 | san policarpo\n",
      "Processing record 27 of set 2 | ilulissat\n",
      "Processing record 28 of set 2 | sobolevo\n",
      "Processing record 29 of set 2 | mayo\n",
      "Processing record 30 of set 2 | arraial do cabo\n",
      "Processing record 31 of set 2 | pangnirtung\n",
      "Processing record 32 of set 2 | pemangkat\n",
      "Processing record 33 of set 2 | qingyuan\n",
      "Processing record 34 of set 2 | honiara\n",
      "Processing record 35 of set 2 | whitehorse\n",
      "Processing record 36 of set 2 | fortuna\n",
      "Processing record 37 of set 2 | pevek\n",
      "Processing record 38 of set 2 | kamenskoye\n",
      "Could not find kamenskoye. Skipping.....\n",
      "Processing record 39 of set 2 | port alfred\n",
      "Processing record 40 of set 2 | pacific grove\n",
      "Processing record 41 of set 2 | kathu\n",
      "Processing record 42 of set 2 | mys shmidta\n",
      "Could not find mys shmidta. Skipping.....\n",
      "Processing record 43 of set 2 | kruisfontein\n",
      "Processing record 44 of set 2 | port blair\n",
      "Processing record 45 of set 2 | hithadhoo\n",
      "Processing record 46 of set 2 | hobart\n",
      "Processing record 47 of set 2 | tairua\n",
      "Processing record 48 of set 2 | santa fe\n",
      "Processing record 49 of set 2 | hermanus\n",
      "Processing record 50 of set 2 | mount isa\n",
      "Processing record 1 of set 3 | hasaki\n",
      "Processing record 2 of set 3 | dikson\n",
      "Processing record 3 of set 3 | sena madureira\n",
      "Processing record 4 of set 3 | nizhneyansk\n",
      "Could not find nizhneyansk. Skipping.....\n",
      "Processing record 5 of set 3 | baykit\n",
      "Processing record 6 of set 3 | taolanaro\n",
      "Could not find taolanaro. Skipping.....\n",
      "Processing record 7 of set 3 | chokurdakh\n",
      "Processing record 8 of set 3 | yulara\n",
      "Processing record 9 of set 3 | bulgan\n",
      "Processing record 10 of set 3 | meyungs\n",
      "Could not find meyungs. Skipping.....\n",
      "Processing record 11 of set 3 | nantucket\n",
      "Processing record 12 of set 3 | sharan\n",
      "Processing record 13 of set 3 | imbituba\n",
      "Processing record 14 of set 3 | tuktoyaktuk\n",
      "Processing record 15 of set 3 | roebourne\n",
      "Processing record 16 of set 3 | central point\n",
      "Processing record 17 of set 3 | saskylakh\n",
      "Processing record 18 of set 3 | tortoli\n",
      "Processing record 19 of set 3 | ahipara\n",
      "Processing record 20 of set 3 | sitka\n",
      "Processing record 21 of set 3 | barentsburg\n",
      "Could not find barentsburg. Skipping.....\n",
      "Processing record 22 of set 3 | krasnokamsk\n",
      "Processing record 23 of set 3 | cabo san lucas\n",
      "Processing record 24 of set 3 | lom sak\n",
      "Processing record 25 of set 3 | torbay\n",
      "Processing record 26 of set 3 | tessalit\n",
      "Processing record 27 of set 3 | riverton\n",
      "Processing record 28 of set 3 | bavly\n",
      "Processing record 29 of set 3 | esperance\n",
      "Processing record 30 of set 3 | aykhal\n",
      "Processing record 31 of set 3 | aasiaat\n",
      "Processing record 32 of set 3 | oktyabrskoye\n",
      "Processing record 33 of set 3 | isangel\n",
      "Processing record 34 of set 3 | tasiilaq\n",
      "Processing record 35 of set 3 | xiongzhou\n",
      "Processing record 36 of set 3 | qaqortoq\n",
      "Processing record 37 of set 3 | elizabeth city\n",
      "Processing record 38 of set 3 | tuatapere\n",
      "Processing record 39 of set 3 | fruitvale\n",
      "Processing record 40 of set 3 | san luis\n",
      "Processing record 41 of set 3 | eydhafushi\n",
      "Processing record 42 of set 3 | tommot\n",
      "Processing record 43 of set 3 | putnok\n",
      "Processing record 44 of set 3 | luangwa\n",
      "Processing record 45 of set 3 | new norfolk\n",
      "Processing record 46 of set 3 | strezhevoy\n",
      "Processing record 47 of set 3 | souillac\n",
      "Processing record 48 of set 3 | north platte\n",
      "Processing record 49 of set 3 | berikulskiy\n",
      "Could not find berikulskiy. Skipping.....\n",
      "Processing record 50 of set 3 | arman\n",
      "Processing record 1 of set 4 | korla\n",
      "Processing record 2 of set 4 | namibe\n",
      "Processing record 3 of set 4 | gimli\n",
      "Processing record 4 of set 4 | kushima\n",
      "Processing record 5 of set 4 | gazni\n",
      "Could not find gazni. Skipping.....\n",
      "Processing record 6 of set 4 | bredasdorp\n",
      "Processing record 7 of set 4 | meulaboh\n",
      "Processing record 8 of set 4 | teguldet\n",
      "Processing record 9 of set 4 | attawapiskat\n",
      "Could not find attawapiskat. Skipping.....\n",
      "Processing record 10 of set 4 | sulangan\n",
      "Processing record 11 of set 4 | turukhansk\n",
      "Processing record 12 of set 4 | arlit\n",
      "Processing record 13 of set 4 | san isidro\n",
      "Processing record 14 of set 4 | khandbari\n",
      "Processing record 15 of set 4 | el wasta\n",
      "Could not find el wasta. Skipping.....\n",
      "Processing record 16 of set 4 | warrington\n",
      "Processing record 17 of set 4 | bambous virieux\n",
      "Processing record 18 of set 4 | challapata\n",
      "Processing record 19 of set 4 | vardo\n",
      "Processing record 20 of set 4 | east london\n",
      "Processing record 21 of set 4 | lasa\n",
      "Processing record 22 of set 4 | williamsport\n",
      "Processing record 23 of set 4 | mitsamiouli\n",
      "Processing record 24 of set 4 | bathsheba\n",
      "Processing record 25 of set 4 | chipinge\n",
      "Processing record 26 of set 4 | lagoa\n",
      "Processing record 27 of set 4 | cherskiy\n",
      "Processing record 28 of set 4 | bluff\n",
      "Processing record 29 of set 4 | lakselv\n",
      "Processing record 30 of set 4 | tsihombe\n",
      "Could not find tsihombe. Skipping.....\n",
      "Processing record 31 of set 4 | saint-philippe\n",
      "Processing record 32 of set 4 | nanortalik\n",
      "Processing record 33 of set 4 | skibbereen\n",
      "Processing record 34 of set 4 | longyearbyen\n",
      "Processing record 35 of set 4 | jalu\n",
      "Processing record 36 of set 4 | palabuhanratu\n",
      "Could not find palabuhanratu. Skipping.....\n"
     ]
    },
    {
     "name": "stdout",
     "output_type": "stream",
     "text": [
      "Processing record 37 of set 4 | bajil\n",
      "Processing record 38 of set 4 | alofi\n",
      "Processing record 39 of set 4 | labutta\n",
      "Could not find labutta. Skipping.....\n",
      "Processing record 40 of set 4 | shu\n",
      "Processing record 41 of set 4 | deputatskiy\n",
      "Processing record 42 of set 4 | katsuura\n",
      "Processing record 43 of set 4 | klyuchi\n",
      "Processing record 44 of set 4 | mahina\n",
      "Processing record 45 of set 4 | linguere\n",
      "Processing record 46 of set 4 | khani\n",
      "Processing record 47 of set 4 | illoqqortoormiut\n",
      "Could not find illoqqortoormiut. Skipping.....\n",
      "Processing record 48 of set 4 | tual\n",
      "Processing record 49 of set 4 | tingrela\n",
      "Could not find tingrela. Skipping.....\n",
      "Processing record 50 of set 4 | jumla\n",
      "Processing record 1 of set 5 | saint-francois\n",
      "Processing record 2 of set 5 | sao filipe\n",
      "Processing record 3 of set 5 | haines junction\n",
      "Processing record 4 of set 5 | saint-georges\n",
      "Processing record 5 of set 5 | bennington\n",
      "Processing record 6 of set 5 | bilma\n",
      "Processing record 7 of set 5 | staraya kulatka\n",
      "Processing record 8 of set 5 | vilcun\n",
      "Processing record 9 of set 5 | shipunovo\n",
      "Processing record 10 of set 5 | grand gaube\n",
      "Processing record 11 of set 5 | necochea\n",
      "Processing record 12 of set 5 | yanam\n",
      "Processing record 13 of set 5 | saleaula\n",
      "Could not find saleaula. Skipping.....\n",
      "Processing record 14 of set 5 | saint-joseph\n",
      "Processing record 15 of set 5 | payao\n",
      "Processing record 16 of set 5 | ayan\n",
      "Processing record 17 of set 5 | tukrah\n",
      "Processing record 18 of set 5 | ust-kuyga\n",
      "Processing record 19 of set 5 | samusu\n",
      "Could not find samusu. Skipping.....\n",
      "Processing record 20 of set 5 | talnakh\n",
      "Processing record 21 of set 5 | yerbogachen\n",
      "Processing record 22 of set 5 | inirida\n",
      "Processing record 23 of set 5 | qaanaaq\n",
      "Processing record 24 of set 5 | the valley\n",
      "Processing record 25 of set 5 | sekoma\n",
      "Processing record 26 of set 5 | high prairie\n",
      "Processing record 27 of set 5 | san quintin\n",
      "Processing record 28 of set 5 | bosaso\n",
      "Processing record 29 of set 5 | noumea\n",
      "Processing record 30 of set 5 | nizhniy kuranakh\n",
      "Processing record 31 of set 5 | susangerd\n",
      "Processing record 32 of set 5 | ouadda\n",
      "Processing record 33 of set 5 | otradnoye\n",
      "Processing record 34 of set 5 | morehead\n",
      "Processing record 35 of set 5 | richards bay\n",
      "Processing record 36 of set 5 | george town\n",
      "Processing record 37 of set 5 | nabire\n",
      "Processing record 38 of set 5 | dingle\n",
      "Processing record 39 of set 5 | innisfail\n",
      "Processing record 40 of set 5 | urusha\n",
      "Processing record 41 of set 5 | narsaq\n",
      "Processing record 42 of set 5 | tupiza\n",
      "Processing record 43 of set 5 | sosua\n",
      "Processing record 44 of set 5 | chicama\n",
      "Processing record 45 of set 5 | coihaique\n",
      "Processing record 46 of set 5 | yahotyn\n",
      "Processing record 47 of set 5 | chokwe\n",
      "Processing record 48 of set 5 | wulanhaote\n",
      "Could not find wulanhaote. Skipping.....\n",
      "Processing record 49 of set 5 | marawi\n",
      "Processing record 50 of set 5 | nhulunbuy\n",
      "Processing record 1 of set 6 | piltene\n",
      "Processing record 2 of set 6 | castro\n",
      "Processing record 3 of set 6 | araouane\n",
      "Processing record 4 of set 6 | amahai\n",
      "Processing record 5 of set 6 | faya\n",
      "Processing record 6 of set 6 | auki\n",
      "Processing record 7 of set 6 | leningradskiy\n",
      "Processing record 8 of set 6 | port elizabeth\n",
      "Processing record 9 of set 6 | eirunepe\n",
      "Processing record 10 of set 6 | iqaluit\n",
      "Processing record 11 of set 6 | constitucion\n",
      "Processing record 12 of set 6 | atambua\n",
      "Processing record 13 of set 6 | aklavik\n",
      "Processing record 14 of set 6 | sentyabrskiy\n",
      "Could not find sentyabrskiy. Skipping.....\n",
      "Processing record 15 of set 6 | grand river south east\n",
      "Could not find grand river south east. Skipping.....\n",
      "Processing record 16 of set 6 | kangaatsiaq\n",
      "Processing record 17 of set 6 | ribeira grande\n",
      "Processing record 18 of set 6 | padang\n",
      "Processing record 19 of set 6 | saint-augustin\n",
      "Processing record 20 of set 6 | comonfort\n",
      "Processing record 21 of set 6 | ochamchira\n",
      "Processing record 22 of set 6 | khlevnoye\n",
      "Processing record 23 of set 6 | burica\n",
      "Could not find burica. Skipping.....\n",
      "Processing record 24 of set 6 | ratnagiri\n",
      "Processing record 25 of set 6 | soria\n",
      "Processing record 26 of set 6 | bam\n",
      "Processing record 27 of set 6 | nome\n",
      "Processing record 28 of set 6 | znamenskoye\n",
      "Processing record 29 of set 6 | airai\n",
      "Processing record 30 of set 6 | lixourion\n",
      "Processing record 31 of set 6 | tuggurt\n",
      "Could not find tuggurt. Skipping.....\n",
      "Processing record 32 of set 6 | uromi\n",
      "Processing record 33 of set 6 | broken hill\n",
      "Processing record 34 of set 6 | touros\n",
      "Processing record 35 of set 6 | aswan\n",
      "Processing record 36 of set 6 | bengkulu\n",
      "Processing record 37 of set 6 | kattivakkam\n",
      "Processing record 38 of set 6 | la rioja\n",
      "Processing record 39 of set 6 | wanning\n",
      "Processing record 40 of set 6 | bjornevatn\n",
      "Processing record 41 of set 6 | camboriu\n",
      "Could not find camboriu. Skipping.....\n",
      "Processing record 42 of set 6 | gamba\n",
      "Processing record 43 of set 6 | karratha\n",
      "Processing record 44 of set 6 | aflu\n",
      "Could not find aflu. Skipping.....\n",
      "Processing record 45 of set 6 | henties bay\n",
      "Processing record 46 of set 6 | domingos martins\n",
      "Processing record 47 of set 6 | svetlogorsk\n",
      "Processing record 48 of set 6 | ikom\n",
      "Processing record 49 of set 6 | skiros\n",
      "Could not find skiros. Skipping.....\n",
      "Processing record 50 of set 6 | cap-aux-meules\n",
      "Processing record 1 of set 7 | gayny\n",
      "Processing record 2 of set 7 | broome\n",
      "Processing record 3 of set 7 | barrow\n",
      "Processing record 4 of set 7 | hihifo\n",
      "Could not find hihifo. Skipping.....\n",
      "Processing record 5 of set 7 | antalaha\n",
      "Processing record 6 of set 7 | gat\n",
      "Processing record 7 of set 7 | saint-pierre\n",
      "Processing record 8 of set 7 | mar del plata\n",
      "Processing record 9 of set 7 | ponta do sol\n",
      "Processing record 10 of set 7 | mitu\n",
      "Processing record 11 of set 7 | baherden\n",
      "Processing record 12 of set 7 | uvira\n",
      "Processing record 13 of set 7 | yerofey pavlovich\n",
      "Processing record 14 of set 7 | itaituba\n",
      "Processing record 15 of set 7 | tsumeb\n",
      "Processing record 16 of set 7 | mizoch\n",
      "Processing record 17 of set 7 | almaznyy\n",
      "Processing record 18 of set 7 | vagur\n",
      "Processing record 19 of set 7 | cayenne\n",
      "Processing record 20 of set 7 | brigantine\n",
      "Processing record 21 of set 7 | cedar city\n",
      "Processing record 22 of set 7 | lorengau\n",
      "Processing record 23 of set 7 | zhezkazgan\n",
      "Processing record 24 of set 7 | sao jose da coroa grande\n",
      "Processing record 25 of set 7 | shimoda\n",
      "Processing record 26 of set 7 | sarkand\n",
      "Processing record 27 of set 7 | capinopolis\n",
      "Processing record 28 of set 7 | marienburg\n",
      "Processing record 29 of set 7 | leshan\n",
      "Processing record 30 of set 7 | guerrero negro\n",
      "Processing record 31 of set 7 | egvekinot\n",
      "Processing record 32 of set 7 | gao\n",
      "Processing record 33 of set 7 | marovoay\n",
      "Processing record 34 of set 7 | berbera\n",
      "Processing record 35 of set 7 | kabinda\n",
      "Processing record 36 of set 7 | wilmington island\n",
      "Processing record 37 of set 7 | abu dhabi\n",
      "Processing record 38 of set 7 | san patricio\n",
      "Processing record 39 of set 7 | manacor\n",
      "Processing record 40 of set 7 | mandalgovi\n",
      "Processing record 41 of set 7 | novaya ladoga\n",
      "Processing record 42 of set 7 | talcahuano\n",
      "Processing record 43 of set 7 | pilot butte\n",
      "Processing record 44 of set 7 | xichang\n",
      "Processing record 45 of set 7 | mongoumba\n",
      "Processing record 46 of set 7 | coquimbo\n",
      "Processing record 47 of set 7 | margate\n",
      "Processing record 48 of set 7 | bayir\n",
      "Processing record 49 of set 7 | sorland\n",
      "Processing record 50 of set 7 | lompoc\n",
      "Processing record 1 of set 8 | isla mujeres\n",
      "Processing record 2 of set 8 | saint george\n",
      "Processing record 3 of set 8 | kingsland\n",
      "Processing record 4 of set 8 | faanui\n",
      "Processing record 5 of set 8 | jaen\n",
      "Processing record 6 of set 8 | jahrom\n",
      "Could not find jahrom. Skipping.....\n",
      "Processing record 7 of set 8 | laguna\n",
      "Processing record 8 of set 8 | bria\n",
      "Processing record 9 of set 8 | kulhudhuffushi\n",
      "Processing record 10 of set 8 | stoyba\n",
      "Could not find stoyba. Skipping.....\n",
      "Processing record 11 of set 8 | kaitangata\n",
      "Processing record 12 of set 8 | kichera\n",
      "Processing record 13 of set 8 | tadine\n",
      "Processing record 14 of set 8 | purranque\n",
      "Processing record 15 of set 8 | avera\n",
      "Processing record 16 of set 8 | prince rupert\n",
      "Processing record 17 of set 8 | santa marta\n",
      "Processing record 18 of set 8 | conakry\n",
      "Processing record 19 of set 8 | jiayuguan\n",
      "Processing record 20 of set 8 | hofn\n",
      "Processing record 21 of set 8 | madimba\n",
      "Processing record 22 of set 8 | jaguaquara\n"
     ]
    },
    {
     "name": "stdout",
     "output_type": "stream",
     "text": [
      "Processing record 23 of set 8 | bubaque\n",
      "Processing record 24 of set 8 | northam\n",
      "Processing record 25 of set 8 | ternate\n",
      "Processing record 26 of set 8 | roald\n",
      "Processing record 27 of set 8 | caravelas\n",
      "Processing record 28 of set 8 | luderitz\n",
      "Processing record 29 of set 8 | kem\n",
      "Processing record 30 of set 8 | adrar\n",
      "Processing record 31 of set 8 | serenje\n",
      "Processing record 32 of set 8 | soverato\n",
      "Processing record 33 of set 8 | sechura\n",
      "Processing record 34 of set 8 | nanakuli\n",
      "Processing record 35 of set 8 | ilhabela\n",
      "Processing record 36 of set 8 | neryungri\n",
      "Processing record 37 of set 8 | clyde river\n",
      "Processing record 38 of set 8 | misratah\n",
      "Processing record 39 of set 8 | manggar\n",
      "Processing record 40 of set 8 | cockburn town\n",
      "Processing record 41 of set 8 | sheopur\n",
      "Processing record 42 of set 8 | roma\n",
      "Processing record 43 of set 8 | namatanai\n",
      "Processing record 44 of set 8 | terrace\n",
      "Processing record 45 of set 8 | asau\n",
      "Processing record 46 of set 8 | privokzalnyy\n",
      "Could not find privokzalnyy. Skipping.....\n",
      "Processing record 47 of set 8 | toma\n",
      "Processing record 48 of set 8 | marcona\n",
      "Could not find marcona. Skipping.....\n",
      "Processing record 49 of set 8 | pandamatenga\n",
      "Processing record 50 of set 8 | xingyi\n",
      "Processing record 1 of set 9 | brazzaville\n",
      "Processing record 2 of set 9 | nicoya\n",
      "Processing record 3 of set 9 | shahrud\n",
      "Processing record 4 of set 9 | jarjis\n",
      "Could not find jarjis. Skipping.....\n",
      "Processing record 5 of set 9 | zyryanka\n",
      "Processing record 6 of set 9 | patea\n",
      "Processing record 7 of set 9 | beloha\n",
      "Processing record 8 of set 9 | upernavik\n",
      "Processing record 9 of set 9 | kolyshley\n",
      "Processing record 10 of set 9 | waingapu\n",
      "Processing record 11 of set 9 | alta floresta\n",
      "Processing record 12 of set 9 | urumqi\n",
      "Processing record 13 of set 9 | tandil\n",
      "Processing record 14 of set 9 | caxito\n",
      "Processing record 15 of set 9 | belmonte\n",
      "Processing record 16 of set 9 | singtam\n",
      "Processing record 17 of set 9 | veraval\n",
      "Processing record 18 of set 9 | berlevag\n",
      "Processing record 19 of set 9 | kailua\n",
      "Processing record 20 of set 9 | codrington\n",
      "Processing record 21 of set 9 | eyl\n",
      "Processing record 22 of set 9 | caraquet\n",
      "Processing record 23 of set 9 | anadyr\n",
      "Processing record 24 of set 9 | mandera\n",
      "Processing record 25 of set 9 | vao\n",
      "Processing record 26 of set 9 | sao joao da barra\n",
      "Processing record 27 of set 9 | loukhi\n",
      "Processing record 28 of set 9 | walvis bay\n",
      "Processing record 29 of set 9 | havoysund\n",
      "Processing record 30 of set 9 | jacareacanga\n",
      "Processing record 31 of set 9 | bhopal\n",
      "Processing record 32 of set 9 | outjo\n",
      "Processing record 33 of set 9 | kantang\n",
      "Processing record 34 of set 9 | shar\n",
      "Processing record 35 of set 9 | shaunavon\n",
      "Processing record 36 of set 9 | lodja\n",
      "Processing record 37 of set 9 | kiama\n",
      "Processing record 38 of set 9 | los llanos de aridane\n",
      "Processing record 39 of set 9 | nautla\n",
      "Processing record 40 of set 9 | porto novo\n",
      "Processing record 41 of set 9 | college\n",
      "Processing record 42 of set 9 | lushunkou\n",
      "Could not find lushunkou. Skipping.....\n",
      "Processing record 43 of set 9 | toora-khem\n",
      "Processing record 44 of set 9 | manaure\n",
      "Processing record 45 of set 9 | portland\n",
      "Processing record 46 of set 9 | pisco\n",
      "Processing record 47 of set 9 | tepalcatepec\n",
      "Processing record 48 of set 9 | tamiahua\n",
      "Processing record 49 of set 9 | port alberni\n",
      "Processing record 50 of set 9 | mayumba\n",
      "Processing record 1 of set 10 | lavrentiya\n",
      "Processing record 2 of set 10 | lusambo\n",
      "Processing record 3 of set 10 | santa cruz de la palma\n",
      "Processing record 4 of set 10 | sampit\n",
      "Processing record 5 of set 10 | pendleton\n",
      "Processing record 6 of set 10 | paulo afonso\n",
      "Processing record 7 of set 10 | kwinana\n",
      "Processing record 8 of set 10 | mapastepec\n",
      "Processing record 9 of set 10 | nelidovo\n",
      "Processing record 10 of set 10 | vaitupu\n",
      "Could not find vaitupu. Skipping.....\n",
      "Processing record 11 of set 10 | silyanah\n",
      "Could not find silyanah. Skipping.....\n",
      "Processing record 12 of set 10 | bougouni\n",
      "Processing record 13 of set 10 | san miguel\n",
      "Processing record 14 of set 10 | blagoveshchenka\n",
      "Processing record 15 of set 10 | provideniya\n",
      "Processing record 16 of set 10 | nishihara\n",
      "Processing record 17 of set 10 | qasigiannguit\n",
      "Processing record 18 of set 10 | ambon\n",
      "Processing record 19 of set 10 | nagua\n",
      "Processing record 20 of set 10 | coro\n",
      "Processing record 21 of set 10 | manokwari\n",
      "Processing record 22 of set 10 | paka\n",
      "Processing record 23 of set 10 | nowy sacz\n",
      "Processing record 24 of set 10 | pratapgarh\n",
      "Processing record 25 of set 10 | vaitape\n",
      "Processing record 26 of set 10 | governador valadares\n",
      "Processing record 27 of set 10 | vila velha\n",
      "Processing record 28 of set 10 | swan hill\n",
      "Processing record 29 of set 10 | coos bay\n",
      "Processing record 30 of set 10 | svetlyy\n",
      "Processing record 31 of set 10 | tagusao\n",
      "Processing record 32 of set 10 | orlik\n",
      "Processing record 33 of set 10 | ust-kamchatsk\n",
      "Could not find ust-kamchatsk. Skipping.....\n",
      "Processing record 34 of set 10 | camacari\n",
      "Processing record 35 of set 10 | leshukonskoye\n",
      "Processing record 36 of set 10 | omboue\n",
      "Processing record 37 of set 10 | talanga\n",
      "Processing record 38 of set 10 | fare\n",
      "Processing record 39 of set 10 | saint-louis\n",
      "Processing record 40 of set 10 | maningrida\n",
      "Processing record 41 of set 10 | kamenka\n",
      "Processing record 42 of set 10 | along\n",
      "Processing record 43 of set 10 | dmitriyevka\n",
      "Processing record 44 of set 10 | kongolo\n",
      "Processing record 45 of set 10 | wewak\n",
      "Processing record 46 of set 10 | mao\n",
      "Processing record 47 of set 10 | mineros\n",
      "Processing record 48 of set 10 | tazovskiy\n",
      "Processing record 49 of set 10 | hambantota\n",
      "Processing record 50 of set 10 | salalah\n",
      "Processing record 1 of set 11 | mussomeli\n",
      "Processing record 2 of set 11 | saryshagan\n",
      "Could not find saryshagan. Skipping.....\n",
      "Processing record 3 of set 11 | hay river\n",
      "Processing record 4 of set 11 | kutum\n",
      "Processing record 5 of set 11 | kaoma\n",
      "Processing record 6 of set 11 | tabiauea\n",
      "Could not find tabiauea. Skipping.....\n",
      "Processing record 7 of set 11 | port lincoln\n",
      "Processing record 8 of set 11 | scottsbluff\n",
      "Processing record 9 of set 11 | tayibe\n",
      "Could not find tayibe. Skipping.....\n",
      "Processing record 10 of set 11 | atar\n",
      "Processing record 11 of set 11 | tyrma\n",
      "Processing record 12 of set 11 | utiroa\n",
      "Could not find utiroa. Skipping.....\n",
      "Processing record 13 of set 11 | balaghat\n",
      "Processing record 14 of set 11 | mashivka\n",
      "Processing record 15 of set 11 | mungwi\n",
      "Processing record 16 of set 11 | abulug\n",
      "Processing record 17 of set 11 | yemanzhelinsk\n",
      "Processing record 18 of set 11 | batemans bay\n",
      "Processing record 19 of set 11 | christchurch\n",
      "Processing record 20 of set 11 | oranjemund\n",
      "Processing record 21 of set 11 | taoudenni\n",
      "Processing record 22 of set 11 | kalaleh\n",
      "Processing record 23 of set 11 | darhan\n",
      "Processing record 24 of set 11 | conceicao do araguaia\n",
      "Processing record 25 of set 11 | brae\n",
      "Processing record 26 of set 11 | lolua\n",
      "Could not find lolua. Skipping.....\n",
      "Processing record 27 of set 11 | severnoye\n",
      "Processing record 28 of set 11 | chara\n",
      "Processing record 29 of set 11 | lebu\n",
      "Processing record 30 of set 11 | nytva\n",
      "Processing record 31 of set 11 | oga\n",
      "Processing record 32 of set 11 | sandusky\n",
      "Processing record 33 of set 11 | kaduna\n",
      "Processing record 34 of set 11 | talara\n",
      "Processing record 35 of set 11 | vabalninkas\n",
      "Processing record 36 of set 11 | biak\n",
      "Processing record 37 of set 11 | marsh harbour\n",
      "Processing record 38 of set 11 | dombarovskiy\n",
      "Processing record 39 of set 11 | sorvag\n",
      "Could not find sorvag. Skipping.....\n",
      "Processing record 40 of set 11 | sakhipur\n",
      "Processing record 41 of set 11 | avinurme\n",
      "Processing record 42 of set 11 | paramonga\n",
      "Processing record 43 of set 11 | dianopolis\n",
      "Could not find dianopolis. Skipping.....\n",
      "Processing record 44 of set 11 | samarai\n",
      "Processing record 45 of set 11 | mormugao\n",
      "Processing record 46 of set 11 | hong gai\n",
      "Processing record 47 of set 11 | puerto del rosario\n",
      "Processing record 48 of set 11 | pimentel\n",
      "Processing record 49 of set 11 | zlatoustovsk\n",
      "Could not find zlatoustovsk. Skipping.....\n",
      "Processing record 50 of set 11 | gorno-chuyskiy\n",
      "Could not find gorno-chuyskiy. Skipping.....\n",
      "Processing record 1 of set 12 | kirakira\n",
      "Processing record 2 of set 12 | bathurst\n",
      "Processing record 3 of set 12 | birjand\n",
      "Processing record 4 of set 12 | santa maria\n"
     ]
    },
    {
     "name": "stdout",
     "output_type": "stream",
     "text": [
      "Processing record 5 of set 12 | nogales\n",
      "Processing record 6 of set 12 | kolokani\n",
      "Processing record 7 of set 12 | guane\n",
      "Processing record 8 of set 12 | mutsamudu\n",
      "Could not find mutsamudu. Skipping.....\n",
      "Processing record 9 of set 12 | paita\n",
      "Processing record 10 of set 12 | butterworth\n",
      "Processing record 11 of set 12 | armacao dos buzios\n",
      "Could not find armacao dos buzios. Skipping.....\n",
      "Processing record 12 of set 12 | carlos chagas\n",
      "Processing record 13 of set 12 | pano aqil\n",
      "Processing record 14 of set 12 | gazojak\n",
      "Processing record 15 of set 12 | tucano\n",
      "Processing record 16 of set 12 | cabra\n",
      "Processing record 17 of set 12 | nguru\n",
      "Processing record 18 of set 12 | itapaci\n",
      "Processing record 19 of set 12 | gogrial\n",
      "Processing record 20 of set 12 | zhanaozen\n",
      "Processing record 21 of set 12 | santa eulalia del rio\n",
      "Could not find santa eulalia del rio. Skipping.....\n",
      "Processing record 22 of set 12 | yumen\n",
      "Processing record 23 of set 12 | bereda\n",
      "Processing record 24 of set 12 | sur\n",
      "Processing record 25 of set 12 | salinopolis\n",
      "Processing record 26 of set 12 | buala\n",
      "Processing record 27 of set 12 | port shepstone\n",
      "Processing record 28 of set 12 | ndioum\n",
      "Processing record 29 of set 12 | makakilo city\n",
      "Processing record 30 of set 12 | sambava\n",
      "Processing record 31 of set 12 | rio gallegos\n",
      "Processing record 32 of set 12 | kupang\n",
      "Processing record 33 of set 12 | port moresby\n",
      "Processing record 34 of set 12 | vung tau\n",
      "Processing record 35 of set 12 | goundam\n",
      "Processing record 36 of set 12 | kawalu\n",
      "Processing record 37 of set 12 | bandundu\n",
      "Processing record 38 of set 12 | hohhot\n",
      "Processing record 39 of set 12 | brawley\n",
      "Processing record 40 of set 12 | santander\n",
      "Processing record 41 of set 12 | andenes\n",
      "Processing record 42 of set 12 | huilong\n",
      "Processing record 43 of set 12 | rajpipla\n",
      "Processing record 44 of set 12 | nova olinda do norte\n",
      "Processing record 45 of set 12 | maun\n",
      "Processing record 46 of set 12 | eureka\n",
      "Processing record 47 of set 12 | bolonchen\n",
      "Could not find bolonchen. Skipping.....\n",
      "Processing record 48 of set 12 | ancud\n",
      "Processing record 49 of set 12 | longlac\n",
      "Could not find longlac. Skipping.....\n",
      "Processing record 50 of set 12 | malanje\n",
      "Processing record 1 of set 13 | praya\n",
      "Processing record 2 of set 13 | treinta y tres\n",
      "Processing record 3 of set 13 | mocambique\n",
      "Could not find mocambique. Skipping.....\n",
      "Processing record 4 of set 13 | isiro\n",
      "Processing record 5 of set 13 | rorvik\n",
      "Processing record 6 of set 13 | lingao\n",
      "Processing record 7 of set 13 | barreirinha\n",
      "Processing record 8 of set 13 | hualmay\n",
      "Processing record 9 of set 13 | krasnoselkup\n",
      "Processing record 10 of set 13 | namtsy\n",
      "Processing record 11 of set 13 | vytegra\n",
      "Processing record 12 of set 13 | okha\n"
     ]
    }
   ],
   "source": [
    "url = \"http://api.openweathermap.org/data/2.5/weather?q=\"\n",
    "#{city name}&appid={API key}\n",
    "maxTemps = []\n",
    "lat = []\n",
    "lng = []\n",
    "humidity = []\n",
    "clouds = []\n",
    "windSpeed = []\n",
    "country = []\n",
    "date = []\n",
    "count = 1\n",
    "sets = 1\n",
    "\n",
    "print(\"Beginning data retrieval\")\n",
    "print(\"-------------------------------\")\n",
    "\n",
    "for city in cities:\n",
    "    url_query = url + city + \"&appid=\" + weather_api_key + \"&units=imperial\"\n",
    "    response = requests.get(url_query).json()\n",
    "    \n",
    "    try:\n",
    "        print(f\"Processing record {count} of set {sets} | {city}\")\n",
    "        maxTemps.append(response[\"main\"][\"temp_max\"])\n",
    "        lat.append(response[\"coord\"][\"lat\"])\n",
    "        lng.append(response[\"coord\"][\"lon\"])\n",
    "        humidity.append(response[\"main\"][\"humidity\"])\n",
    "        clouds.append(response[\"clouds\"][\"all\"])\n",
    "        windSpeed.append(response[\"wind\"][\"speed\"])\n",
    "        country.append(response[\"sys\"][\"country\"])\n",
    "        date.append(response[\"dt\"])\n",
    "    except (KeyError, IndexError):\n",
    "        maxTemps.append(np.nan)\n",
    "        lat.append(np.nan)\n",
    "        lng.append(np.nan)\n",
    "        humidity.append(np.nan)\n",
    "        clouds.append(np.nan)\n",
    "        windSpeed.append(np.nan)\n",
    "        country.append(np.nan)\n",
    "        date.append(np.nan)\n",
    "        print(f\"Could not find {city}. Skipping.....\")\n",
    "    count = count + 1\n",
    "    if count == 51:\n",
    "        count = 1\n",
    "        sets = sets +1\n",
    "    \n",
    "    "
   ]
  },
  {
   "cell_type": "markdown",
   "metadata": {},
   "source": [
    "### Convert Raw Data to DataFrame\n",
    "* Export the city data into a .csv.\n",
    "* Display the DataFrame"
   ]
  },
  {
   "cell_type": "code",
   "execution_count": 14,
   "metadata": {},
   "outputs": [
    {
     "name": "stdout",
     "output_type": "stream",
     "text": [
      "612\n"
     ]
    }
   ],
   "source": [
    "print(len(maxTemps))"
   ]
  },
  {
   "cell_type": "code",
   "execution_count": 18,
   "metadata": {},
   "outputs": [
    {
     "data": {
      "text/html": [
       "<div>\n",
       "<style scoped>\n",
       "    .dataframe tbody tr th:only-of-type {\n",
       "        vertical-align: middle;\n",
       "    }\n",
       "\n",
       "    .dataframe tbody tr th {\n",
       "        vertical-align: top;\n",
       "    }\n",
       "\n",
       "    .dataframe thead th {\n",
       "        text-align: right;\n",
       "    }\n",
       "</style>\n",
       "<table border=\"1\" class=\"dataframe\">\n",
       "  <thead>\n",
       "    <tr style=\"text-align: right;\">\n",
       "      <th></th>\n",
       "      <th>City</th>\n",
       "      <th>Lat</th>\n",
       "      <th>Lng</th>\n",
       "      <th>Max Temp</th>\n",
       "      <th>Humidity</th>\n",
       "      <th>Cloudiness</th>\n",
       "      <th>Wind Speed</th>\n",
       "      <th>Country</th>\n",
       "      <th>Date</th>\n",
       "    </tr>\n",
       "  </thead>\n",
       "  <tbody>\n",
       "    <tr>\n",
       "      <th>0</th>\n",
       "      <td>port hawkesbury</td>\n",
       "      <td>45.62</td>\n",
       "      <td>-61.35</td>\n",
       "      <td>51.01</td>\n",
       "      <td>100.0</td>\n",
       "      <td>90.0</td>\n",
       "      <td>11.41</td>\n",
       "      <td>CA</td>\n",
       "      <td>1.603320e+09</td>\n",
       "    </tr>\n",
       "    <tr>\n",
       "      <th>1</th>\n",
       "      <td>maputo</td>\n",
       "      <td>-25.97</td>\n",
       "      <td>32.59</td>\n",
       "      <td>70.00</td>\n",
       "      <td>78.0</td>\n",
       "      <td>16.0</td>\n",
       "      <td>4.00</td>\n",
       "      <td>MZ</td>\n",
       "      <td>1.603320e+09</td>\n",
       "    </tr>\n",
       "    <tr>\n",
       "      <th>2</th>\n",
       "      <td>busselton</td>\n",
       "      <td>-33.65</td>\n",
       "      <td>115.33</td>\n",
       "      <td>55.00</td>\n",
       "      <td>66.0</td>\n",
       "      <td>1.0</td>\n",
       "      <td>10.92</td>\n",
       "      <td>AU</td>\n",
       "      <td>1.603320e+09</td>\n",
       "    </tr>\n",
       "    <tr>\n",
       "      <th>3</th>\n",
       "      <td>kapaa</td>\n",
       "      <td>22.08</td>\n",
       "      <td>-159.32</td>\n",
       "      <td>84.99</td>\n",
       "      <td>74.0</td>\n",
       "      <td>90.0</td>\n",
       "      <td>3.36</td>\n",
       "      <td>US</td>\n",
       "      <td>1.603320e+09</td>\n",
       "    </tr>\n",
       "    <tr>\n",
       "      <th>4</th>\n",
       "      <td>alice springs</td>\n",
       "      <td>-23.70</td>\n",
       "      <td>133.88</td>\n",
       "      <td>82.40</td>\n",
       "      <td>34.0</td>\n",
       "      <td>2.0</td>\n",
       "      <td>6.93</td>\n",
       "      <td>AU</td>\n",
       "      <td>1.603320e+09</td>\n",
       "    </tr>\n",
       "  </tbody>\n",
       "</table>\n",
       "</div>"
      ],
      "text/plain": [
       "              City    Lat     Lng  Max Temp  Humidity  Cloudiness  Wind Speed  \\\n",
       "0  port hawkesbury  45.62  -61.35     51.01     100.0        90.0       11.41   \n",
       "1           maputo -25.97   32.59     70.00      78.0        16.0        4.00   \n",
       "2        busselton -33.65  115.33     55.00      66.0         1.0       10.92   \n",
       "3            kapaa  22.08 -159.32     84.99      74.0        90.0        3.36   \n",
       "4    alice springs -23.70  133.88     82.40      34.0         2.0        6.93   \n",
       "\n",
       "  Country          Date  \n",
       "0      CA  1.603320e+09  \n",
       "1      MZ  1.603320e+09  \n",
       "2      AU  1.603320e+09  \n",
       "3      US  1.603320e+09  \n",
       "4      AU  1.603320e+09  "
      ]
     },
     "execution_count": 18,
     "metadata": {},
     "output_type": "execute_result"
    }
   ],
   "source": [
    "weatherInfo = pd.DataFrame({\"City\": cities, \"Lat\": lat, \"Lng\":lng, \"Max Temp\": maxTemps, \"Humidity\": humidity,\n",
    "                           \"Cloudiness\": clouds, \"Wind Speed\": windSpeed, \"Country\": country, \"Date\": date})\n",
    "weatherInfo.dropna()\n",
    "weatherInfo.to_csv(\"WeatherInfo.csv\", encoding='utf-8', index=False)\n",
    "weatherInfo.head()"
   ]
  },
  {
   "cell_type": "code",
   "execution_count": 19,
   "metadata": {},
   "outputs": [
    {
     "data": {
      "text/html": [
       "<div>\n",
       "<style scoped>\n",
       "    .dataframe tbody tr th:only-of-type {\n",
       "        vertical-align: middle;\n",
       "    }\n",
       "\n",
       "    .dataframe tbody tr th {\n",
       "        vertical-align: top;\n",
       "    }\n",
       "\n",
       "    .dataframe thead th {\n",
       "        text-align: right;\n",
       "    }\n",
       "</style>\n",
       "<table border=\"1\" class=\"dataframe\">\n",
       "  <thead>\n",
       "    <tr style=\"text-align: right;\">\n",
       "      <th></th>\n",
       "      <th>Lat</th>\n",
       "      <th>Lng</th>\n",
       "      <th>Max Temp</th>\n",
       "      <th>Humidity</th>\n",
       "      <th>Cloudiness</th>\n",
       "      <th>Wind Speed</th>\n",
       "      <th>Date</th>\n",
       "    </tr>\n",
       "  </thead>\n",
       "  <tbody>\n",
       "    <tr>\n",
       "      <th>count</th>\n",
       "      <td>558.000000</td>\n",
       "      <td>558.000000</td>\n",
       "      <td>558.000000</td>\n",
       "      <td>558.000000</td>\n",
       "      <td>558.000000</td>\n",
       "      <td>558.000000</td>\n",
       "      <td>5.580000e+02</td>\n",
       "    </tr>\n",
       "    <tr>\n",
       "      <th>mean</th>\n",
       "      <td>18.351541</td>\n",
       "      <td>16.189642</td>\n",
       "      <td>61.003817</td>\n",
       "      <td>73.238351</td>\n",
       "      <td>51.121864</td>\n",
       "      <td>7.727258</td>\n",
       "      <td>1.603320e+09</td>\n",
       "    </tr>\n",
       "    <tr>\n",
       "      <th>std</th>\n",
       "      <td>33.364215</td>\n",
       "      <td>89.562951</td>\n",
       "      <td>20.624656</td>\n",
       "      <td>20.354281</td>\n",
       "      <td>38.280541</td>\n",
       "      <td>4.724157</td>\n",
       "      <td>7.033500e+01</td>\n",
       "    </tr>\n",
       "    <tr>\n",
       "      <th>min</th>\n",
       "      <td>-54.800000</td>\n",
       "      <td>-179.170000</td>\n",
       "      <td>-0.400000</td>\n",
       "      <td>8.000000</td>\n",
       "      <td>0.000000</td>\n",
       "      <td>0.290000</td>\n",
       "      <td>1.603320e+09</td>\n",
       "    </tr>\n",
       "    <tr>\n",
       "      <th>25%</th>\n",
       "      <td>-9.765000</td>\n",
       "      <td>-61.650000</td>\n",
       "      <td>48.200000</td>\n",
       "      <td>64.000000</td>\n",
       "      <td>11.250000</td>\n",
       "      <td>4.235000</td>\n",
       "      <td>1.603320e+09</td>\n",
       "    </tr>\n",
       "    <tr>\n",
       "      <th>50%</th>\n",
       "      <td>20.055000</td>\n",
       "      <td>22.195000</td>\n",
       "      <td>66.310000</td>\n",
       "      <td>78.000000</td>\n",
       "      <td>53.500000</td>\n",
       "      <td>6.930000</td>\n",
       "      <td>1.603320e+09</td>\n",
       "    </tr>\n",
       "    <tr>\n",
       "      <th>75%</th>\n",
       "      <td>47.760000</td>\n",
       "      <td>92.107500</td>\n",
       "      <td>77.065000</td>\n",
       "      <td>88.000000</td>\n",
       "      <td>90.000000</td>\n",
       "      <td>10.472500</td>\n",
       "      <td>1.603320e+09</td>\n",
       "    </tr>\n",
       "    <tr>\n",
       "      <th>max</th>\n",
       "      <td>78.220000</td>\n",
       "      <td>178.420000</td>\n",
       "      <td>97.000000</td>\n",
       "      <td>100.000000</td>\n",
       "      <td>100.000000</td>\n",
       "      <td>24.160000</td>\n",
       "      <td>1.603320e+09</td>\n",
       "    </tr>\n",
       "  </tbody>\n",
       "</table>\n",
       "</div>"
      ],
      "text/plain": [
       "              Lat         Lng    Max Temp    Humidity  Cloudiness  Wind Speed  \\\n",
       "count  558.000000  558.000000  558.000000  558.000000  558.000000  558.000000   \n",
       "mean    18.351541   16.189642   61.003817   73.238351   51.121864    7.727258   \n",
       "std     33.364215   89.562951   20.624656   20.354281   38.280541    4.724157   \n",
       "min    -54.800000 -179.170000   -0.400000    8.000000    0.000000    0.290000   \n",
       "25%     -9.765000  -61.650000   48.200000   64.000000   11.250000    4.235000   \n",
       "50%     20.055000   22.195000   66.310000   78.000000   53.500000    6.930000   \n",
       "75%     47.760000   92.107500   77.065000   88.000000   90.000000   10.472500   \n",
       "max     78.220000  178.420000   97.000000  100.000000  100.000000   24.160000   \n",
       "\n",
       "               Date  \n",
       "count  5.580000e+02  \n",
       "mean   1.603320e+09  \n",
       "std    7.033500e+01  \n",
       "min    1.603320e+09  \n",
       "25%    1.603320e+09  \n",
       "50%    1.603320e+09  \n",
       "75%    1.603320e+09  \n",
       "max    1.603320e+09  "
      ]
     },
     "execution_count": 19,
     "metadata": {},
     "output_type": "execute_result"
    }
   ],
   "source": [
    "weatherInfo.describe()"
   ]
  },
  {
   "cell_type": "markdown",
   "metadata": {},
   "source": [
    "## Inspect the data and remove the cities where the humidity > 100%.\n",
    "----\n",
    "Skip this step if there are no cities that have humidity > 100%. "
   ]
  },
  {
   "cell_type": "code",
   "execution_count": 20,
   "metadata": {},
   "outputs": [
    {
     "data": {
      "text/html": [
       "<div>\n",
       "<style scoped>\n",
       "    .dataframe tbody tr th:only-of-type {\n",
       "        vertical-align: middle;\n",
       "    }\n",
       "\n",
       "    .dataframe tbody tr th {\n",
       "        vertical-align: top;\n",
       "    }\n",
       "\n",
       "    .dataframe thead th {\n",
       "        text-align: right;\n",
       "    }\n",
       "</style>\n",
       "<table border=\"1\" class=\"dataframe\">\n",
       "  <thead>\n",
       "    <tr style=\"text-align: right;\">\n",
       "      <th></th>\n",
       "      <th>City</th>\n",
       "      <th>Lat</th>\n",
       "      <th>Lng</th>\n",
       "      <th>Max Temp</th>\n",
       "      <th>Humidity</th>\n",
       "      <th>Cloudiness</th>\n",
       "      <th>Wind Speed</th>\n",
       "      <th>Country</th>\n",
       "      <th>Date</th>\n",
       "    </tr>\n",
       "  </thead>\n",
       "  <tbody>\n",
       "  </tbody>\n",
       "</table>\n",
       "</div>"
      ],
      "text/plain": [
       "Empty DataFrame\n",
       "Columns: [City, Lat, Lng, Max Temp, Humidity, Cloudiness, Wind Speed, Country, Date]\n",
       "Index: []"
      ]
     },
     "execution_count": 20,
     "metadata": {},
     "output_type": "execute_result"
    }
   ],
   "source": [
    "highHumidity = weatherInfo.loc[weatherInfo[\"Humidity\"]>100,:]\n",
    "highHumidity"
   ]
  },
  {
   "cell_type": "code",
   "execution_count": 17,
   "metadata": {},
   "outputs": [
    {
     "data": {
      "text/plain": [
       "Int64Index([], dtype='int64')"
      ]
     },
     "execution_count": 17,
     "metadata": {},
     "output_type": "execute_result"
    }
   ],
   "source": [
    "#  Get the indices of cities that have humidity over 100%.\n"
   ]
  },
  {
   "cell_type": "code",
   "execution_count": 19,
   "metadata": {},
   "outputs": [
    {
     "data": {
      "text/html": [
       "<div>\n",
       "<style scoped>\n",
       "    .dataframe tbody tr th:only-of-type {\n",
       "        vertical-align: middle;\n",
       "    }\n",
       "\n",
       "    .dataframe tbody tr th {\n",
       "        vertical-align: top;\n",
       "    }\n",
       "\n",
       "    .dataframe thead th {\n",
       "        text-align: right;\n",
       "    }\n",
       "</style>\n",
       "<table border=\"1\" class=\"dataframe\">\n",
       "  <thead>\n",
       "    <tr style=\"text-align: right;\">\n",
       "      <th></th>\n",
       "      <th>City</th>\n",
       "      <th>Lat</th>\n",
       "      <th>Lng</th>\n",
       "      <th>Max Temp</th>\n",
       "      <th>Humidity</th>\n",
       "      <th>Cloudiness</th>\n",
       "      <th>Wind Speed</th>\n",
       "      <th>Country</th>\n",
       "      <th>Date</th>\n",
       "    </tr>\n",
       "  </thead>\n",
       "  <tbody>\n",
       "    <tr>\n",
       "      <td>0</td>\n",
       "      <td>butaritari</td>\n",
       "      <td>3.07</td>\n",
       "      <td>172.79</td>\n",
       "      <td>83.32</td>\n",
       "      <td>74</td>\n",
       "      <td>84</td>\n",
       "      <td>10.42</td>\n",
       "      <td>KI</td>\n",
       "      <td>1593605283</td>\n",
       "    </tr>\n",
       "    <tr>\n",
       "      <td>1</td>\n",
       "      <td>yerbogachen</td>\n",
       "      <td>61.28</td>\n",
       "      <td>108.01</td>\n",
       "      <td>79.52</td>\n",
       "      <td>58</td>\n",
       "      <td>20</td>\n",
       "      <td>7.70</td>\n",
       "      <td>RU</td>\n",
       "      <td>1593605121</td>\n",
       "    </tr>\n",
       "    <tr>\n",
       "      <td>2</td>\n",
       "      <td>cape town</td>\n",
       "      <td>-33.93</td>\n",
       "      <td>18.42</td>\n",
       "      <td>73.00</td>\n",
       "      <td>77</td>\n",
       "      <td>27</td>\n",
       "      <td>4.70</td>\n",
       "      <td>ZA</td>\n",
       "      <td>1593605039</td>\n",
       "    </tr>\n",
       "    <tr>\n",
       "      <td>3</td>\n",
       "      <td>touba</td>\n",
       "      <td>8.28</td>\n",
       "      <td>-7.68</td>\n",
       "      <td>79.97</td>\n",
       "      <td>75</td>\n",
       "      <td>82</td>\n",
       "      <td>3.58</td>\n",
       "      <td>CI</td>\n",
       "      <td>1593605284</td>\n",
       "    </tr>\n",
       "    <tr>\n",
       "      <td>4</td>\n",
       "      <td>jamestown</td>\n",
       "      <td>42.10</td>\n",
       "      <td>-79.24</td>\n",
       "      <td>64.00</td>\n",
       "      <td>88</td>\n",
       "      <td>1</td>\n",
       "      <td>6.93</td>\n",
       "      <td>US</td>\n",
       "      <td>1593605284</td>\n",
       "    </tr>\n",
       "  </tbody>\n",
       "</table>\n",
       "</div>"
      ],
      "text/plain": [
       "          City    Lat     Lng  Max Temp  Humidity  Cloudiness  Wind Speed  \\\n",
       "0   butaritari   3.07  172.79     83.32        74          84       10.42   \n",
       "1  yerbogachen  61.28  108.01     79.52        58          20        7.70   \n",
       "2    cape town -33.93   18.42     73.00        77          27        4.70   \n",
       "3        touba   8.28   -7.68     79.97        75          82        3.58   \n",
       "4    jamestown  42.10  -79.24     64.00        88           1        6.93   \n",
       "\n",
       "  Country        Date  \n",
       "0      KI  1593605283  \n",
       "1      RU  1593605121  \n",
       "2      ZA  1593605039  \n",
       "3      CI  1593605284  \n",
       "4      US  1593605284  "
      ]
     },
     "execution_count": 19,
     "metadata": {},
     "output_type": "execute_result"
    }
   ],
   "source": [
    "# Make a new DataFrame equal to the city data to drop all humidity outliers by index.\n",
    "# Passing \"inplace=False\" will make a copy of the city_data DataFrame, which we call \"clean_city_data\".\n"
   ]
  },
  {
   "cell_type": "code",
   "execution_count": null,
   "metadata": {},
   "outputs": [],
   "source": [
    "\n"
   ]
  },
  {
   "cell_type": "markdown",
   "metadata": {},
   "source": [
    "## Plotting the Data\n",
    "* Use proper labeling of the plots using plot titles (including date of analysis) and axes labels.\n",
    "* Save the plotted figures as .pngs."
   ]
  },
  {
   "cell_type": "markdown",
   "metadata": {},
   "source": [
    "## Latitude vs. Temperature Plot"
   ]
  },
  {
   "cell_type": "code",
   "execution_count": 6,
   "metadata": {
    "scrolled": true
   },
   "outputs": [
    {
     "data": {
      "text/html": [
       "<div>\n",
       "<style scoped>\n",
       "    .dataframe tbody tr th:only-of-type {\n",
       "        vertical-align: middle;\n",
       "    }\n",
       "\n",
       "    .dataframe tbody tr th {\n",
       "        vertical-align: top;\n",
       "    }\n",
       "\n",
       "    .dataframe thead th {\n",
       "        text-align: right;\n",
       "    }\n",
       "</style>\n",
       "<table border=\"1\" class=\"dataframe\">\n",
       "  <thead>\n",
       "    <tr style=\"text-align: right;\">\n",
       "      <th></th>\n",
       "      <th>City</th>\n",
       "      <th>Lat</th>\n",
       "      <th>Lng</th>\n",
       "      <th>Max Temp</th>\n",
       "      <th>Humidity</th>\n",
       "      <th>Cloudiness</th>\n",
       "      <th>Wind Speed</th>\n",
       "      <th>Country</th>\n",
       "      <th>Date</th>\n",
       "    </tr>\n",
       "  </thead>\n",
       "  <tbody>\n",
       "    <tr>\n",
       "      <th>0</th>\n",
       "      <td>port hawkesbury</td>\n",
       "      <td>45.62</td>\n",
       "      <td>-61.35</td>\n",
       "      <td>51.01</td>\n",
       "      <td>100.0</td>\n",
       "      <td>90.0</td>\n",
       "      <td>11.41</td>\n",
       "      <td>CA</td>\n",
       "      <td>1.603320e+09</td>\n",
       "    </tr>\n",
       "    <tr>\n",
       "      <th>1</th>\n",
       "      <td>maputo</td>\n",
       "      <td>-25.97</td>\n",
       "      <td>32.59</td>\n",
       "      <td>70.00</td>\n",
       "      <td>78.0</td>\n",
       "      <td>16.0</td>\n",
       "      <td>4.00</td>\n",
       "      <td>MZ</td>\n",
       "      <td>1.603320e+09</td>\n",
       "    </tr>\n",
       "    <tr>\n",
       "      <th>2</th>\n",
       "      <td>busselton</td>\n",
       "      <td>-33.65</td>\n",
       "      <td>115.33</td>\n",
       "      <td>55.00</td>\n",
       "      <td>66.0</td>\n",
       "      <td>1.0</td>\n",
       "      <td>10.92</td>\n",
       "      <td>AU</td>\n",
       "      <td>1.603320e+09</td>\n",
       "    </tr>\n",
       "    <tr>\n",
       "      <th>3</th>\n",
       "      <td>kapaa</td>\n",
       "      <td>22.08</td>\n",
       "      <td>-159.32</td>\n",
       "      <td>84.99</td>\n",
       "      <td>74.0</td>\n",
       "      <td>90.0</td>\n",
       "      <td>3.36</td>\n",
       "      <td>US</td>\n",
       "      <td>1.603320e+09</td>\n",
       "    </tr>\n",
       "    <tr>\n",
       "      <th>4</th>\n",
       "      <td>alice springs</td>\n",
       "      <td>-23.70</td>\n",
       "      <td>133.88</td>\n",
       "      <td>82.40</td>\n",
       "      <td>34.0</td>\n",
       "      <td>2.0</td>\n",
       "      <td>6.93</td>\n",
       "      <td>AU</td>\n",
       "      <td>1.603320e+09</td>\n",
       "    </tr>\n",
       "  </tbody>\n",
       "</table>\n",
       "</div>"
      ],
      "text/plain": [
       "              City    Lat     Lng  Max Temp  Humidity  Cloudiness  Wind Speed  \\\n",
       "0  port hawkesbury  45.62  -61.35     51.01     100.0        90.0       11.41   \n",
       "1           maputo -25.97   32.59     70.00      78.0        16.0        4.00   \n",
       "2        busselton -33.65  115.33     55.00      66.0         1.0       10.92   \n",
       "3            kapaa  22.08 -159.32     84.99      74.0        90.0        3.36   \n",
       "4    alice springs -23.70  133.88     82.40      34.0         2.0        6.93   \n",
       "\n",
       "  Country          Date  \n",
       "0      CA  1.603320e+09  \n",
       "1      MZ  1.603320e+09  \n",
       "2      AU  1.603320e+09  \n",
       "3      US  1.603320e+09  \n",
       "4      AU  1.603320e+09  "
      ]
     },
     "execution_count": 6,
     "metadata": {},
     "output_type": "execute_result"
    }
   ],
   "source": [
    "weatherInfo= pd.read_csv(\"WeatherInfo.csv\")\n",
    "weatherInfo.head()"
   ]
  },
  {
   "cell_type": "code",
   "execution_count": 29,
   "metadata": {},
   "outputs": [
    {
     "data": {
      "image/png": "[encoded data removed]",
      "text/plain": [
       "<Figure size 432x288 with 1 Axes>"
      ]
     },
     "metadata": {
      "needs_background": "light"
     },
     "output_type": "display_data"
    }
   ],
   "source": [
    "plt.scatter(weatherInfo[\"Lat\"], weatherInfo[\"Max Temp\"], edgecolors = \"black\")\n",
    "plt.title(\"Latitude vs. Max Temp (10/21/20)\")\n",
    "plt.ylabel(\"Max Temp (F)\")\n",
    "plt.xlabel(\"Latitude\")\n",
    "plt.grid()"
   ]
  },
  {
   "cell_type": "code",
   "execution_count": null,
   "metadata": {},
   "outputs": [],
   "source": [
    "#this plot shows that temperatures tend to be the highest around the equator (or at 0 degrees).\n",
    "#As latitude moves away from 0 in either direction, the temperature decreases, however moving north, the temperature\n",
    "#decreases more quickly as opposed to moving south."
   ]
  },
  {
   "cell_type": "markdown",
   "metadata": {},
   "source": [
    "## Latitude vs. Humidity Plot"
   ]
  },
  {
   "cell_type": "code",
   "execution_count": 31,
   "metadata": {},
   "outputs": [
    {
     "data": {
      "image/png": "[encoded data removed]",
      "text/plain": [
       "<Figure size 432x288 with 1 Axes>"
      ]
     },
     "metadata": {
      "needs_background": "light"
     },
     "output_type": "display_data"
    }
   ],
   "source": [
    "plt.scatter(weatherInfo[\"Lat\"], weatherInfo[\"Humidity\"], edgecolors = \"black\")\n",
    "plt.title(\"City Latitude vs. Humidity (10/21/20)\")\n",
    "plt.ylabel(\"Humidity (%)\")\n",
    "plt.xlabel(\"Latitude\")\n",
    "plt.grid()"
   ]
  },
  {
   "cell_type": "code",
   "execution_count": null,
   "metadata": {},
   "outputs": [],
   "source": [
    "# There isn't a correlation between latitude and humidity. It looks like it could be a slightly positive correlation, but\n",
    "# the correlation would be extremely weak. "
   ]
  },
  {
   "cell_type": "markdown",
   "metadata": {},
   "source": [
    "## Latitude vs. Cloudiness Plot"
   ]
  },
  {
   "cell_type": "code",
   "execution_count": null,
   "metadata": {},
   "outputs": [],
   "source": []
  },
  {
   "cell_type": "code",
   "execution_count": 32,
   "metadata": {},
   "outputs": [
    {
     "data": {
      "image/png": "[encoded data removed]",
      "text/plain": [
       "<Figure size 432x288 with 1 Axes>"
      ]
     },
     "metadata": {
      "needs_background": "light"
     },
     "output_type": "display_data"
    }
   ],
   "source": [
    "plt.scatter(weatherInfo[\"Lat\"], weatherInfo[\"Cloudiness\"], edgecolors = \"black\")\n",
    "plt.title(\"City Latitude vs. Cloudiness (10/21/20)\")\n",
    "plt.ylabel(\"Cloudiness (%)\")\n",
    "plt.xlabel(\"Latitude\")\n",
    "plt.grid()"
   ]
  },
  {
   "cell_type": "code",
   "execution_count": null,
   "metadata": {},
   "outputs": [],
   "source": [
    "# There isn't a correlation between latitude and cloudiness. The graph is nearly evenly distributed."
   ]
  },
  {
   "cell_type": "markdown",
   "metadata": {},
   "source": [
    "## Latitude vs. Wind Speed Plot"
   ]
  },
  {
   "cell_type": "code",
   "execution_count": 33,
   "metadata": {},
   "outputs": [
    {
     "data": {
      "image/png": "[encoded data removed]",
      "text/plain": [
       "<Figure size 432x288 with 1 Axes>"
      ]
     },
     "metadata": {
      "needs_background": "light"
     },
     "output_type": "display_data"
    }
   ],
   "source": [
    "plt.scatter(weatherInfo[\"Lat\"], weatherInfo[\"Wind Speed\"], edgecolors = \"black\")\n",
    "plt.title(\"City Latitude vs. Wind Speed (10/21/20)\")\n",
    "plt.ylabel(\"Wind Speed (mph)\")\n",
    "plt.xlabel(\"Latitude\")\n",
    "plt.grid()"
   ]
  },
  {
   "cell_type": "code",
   "execution_count": null,
   "metadata": {},
   "outputs": [],
   "source": [
    "# Similar to humidity, there isn't a correlation between latitude and wind speed. \n",
    "# It looks like it could be a slightly positive correlation, but the correlation would be extremely weak. "
   ]
  },
  {
   "cell_type": "markdown",
   "metadata": {},
   "source": [
    "## Linear Regression"
   ]
  },
  {
   "cell_type": "code",
   "execution_count": 34,
   "metadata": {},
   "outputs": [],
   "source": [
    "northInfo = weatherInfo.loc[weatherInfo[\"Lat\"]>=0,:]\n",
    "southInfo = weatherInfo.loc[weatherInfo[\"Lat\"]<0,:]"
   ]
  },
  {
   "cell_type": "markdown",
   "metadata": {},
   "source": [
    "####  Northern Hemisphere - Max Temp vs. Latitude Linear Regression"
   ]
  },
  {
   "cell_type": "code",
   "execution_count": 36,
   "metadata": {},
   "outputs": [
    {
     "name": "stdout",
     "output_type": "stream",
     "text": [
      "The R-squared value is 0.7716246253760223\n"
     ]
    },
    {
     "data": {
      "image/png": "[encoded data removed]",
      "text/plain": [
       "<Figure size 432x288 with 1 Axes>"
      ]
     },
     "metadata": {
      "needs_background": "light"
     },
     "output_type": "display_data"
    }
   ],
   "source": [
    "xValues = northInfo[\"Lat\"]\n",
    "yValues = northInfo[\"Max Temp\"]\n",
    "\n",
    "(slope, intercept, rvalue, pvalue, stderr) = linregress(xValues, yValues)\n",
    "regress_values = xValues * slope + intercept\n",
    "line_eq = \"y = \" + str(round(slope,2)) + \"x + \" + str(round(intercept,2))\n",
    "plt.scatter(xValues, yValues)\n",
    "plt.plot(xValues,regress_values,\"r-\")\n",
    "plt.annotate(line_eq,(6,10),fontsize=15,color=\"red\")\n",
    "plt.title(\"Latitude vs. Max Temp (10/21/20)\")\n",
    "plt.ylabel(\"Max Temp (F)\")\n",
    "plt.xlabel(\"Latitude\")\n",
    "print(f\"The R-squared value is {rvalue**2}\")\n",
    "plt.show()\n"
   ]
  },
  {
   "cell_type": "code",
   "execution_count": null,
   "metadata": {},
   "outputs": [],
   "source": [
    "#As the latitude increases (the further it gets from the equator), the lower the max temperature (it gets colder). \n",
    "#The r-squared value is 0.77 meaning there is a strong correlation between latitude and max temp."
   ]
  },
  {
   "cell_type": "markdown",
   "metadata": {},
   "source": [
    "####  Southern Hemisphere - Max Temp vs. Latitude Linear Regression"
   ]
  },
  {
   "cell_type": "code",
   "execution_count": 22,
   "metadata": {},
   "outputs": [
    {
     "name": "stdout",
     "output_type": "stream",
     "text": [
      "The R-squared value is 0.5280466542508064\n"
     ]
    },
    {
     "data": {
      "image/png": "[encoded data removed]",
      "text/plain": [
       "<Figure size 432x288 with 1 Axes>"
      ]
     },
     "metadata": {
      "needs_background": "light"
     },
     "output_type": "display_data"
    }
   ],
   "source": [
    "xValues = southInfo[\"Lat\"]\n",
    "yValues = southInfo[\"Max Temp\"]\n",
    "\n",
    "(slope, intercept, rvalue, pvalue, stderr) = linregress(xValues, yValues)\n",
    "regress_values = xValues * slope + intercept\n",
    "line_eq = \"y = \" + str(round(slope,2)) + \"x + \" + str(round(intercept,2))\n",
    "plt.scatter(xValues, yValues)\n",
    "plt.plot(xValues,regress_values,\"r-\")\n",
    "plt.annotate(line_eq,(6,10),fontsize=15,color=\"red\")\n",
    "plt.title(\"Latitude vs. Max Temp (10/21/20)\")\n",
    "plt.ylabel(\"Max Temp (F)\")\n",
    "plt.xlabel(\"Latitude\")\n",
    "print(f\"The R-squared value is {rvalue**2}\")\n",
    "plt.show()\n"
   ]
  },
  {
   "cell_type": "code",
   "execution_count": null,
   "metadata": {},
   "outputs": [],
   "source": [
    "#As the latitude increases (the closer we get to the equator), the higher the max temperature (it gets warmer). \n",
    "#The r-squared value is 0.53 meaning there is a moderate correlation between latitude and max temp."
   ]
  },
  {
   "cell_type": "markdown",
   "metadata": {},
   "source": [
    "####  Northern Hemisphere - Humidity (%) vs. Latitude Linear Regression"
   ]
  },
  {
   "cell_type": "code",
   "execution_count": 23,
   "metadata": {},
   "outputs": [
    {
     "name": "stdout",
     "output_type": "stream",
     "text": [
      "The R-squared value is 0.07272494494507618\n"
     ]
    },
    {
     "data": {
      "image/png": "[encoded data removed]",
      "text/plain": [
       "<Figure size 432x288 with 1 Axes>"
      ]
     },
     "metadata": {
      "needs_background": "light"
     },
     "output_type": "display_data"
    }
   ],
   "source": [
    "xValues = northInfo[\"Lat\"]\n",
    "yValues = northInfo[\"Humidity\"]\n",
    "\n",
    "(slope, intercept, rvalue, pvalue, stderr) = linregress(xValues, yValues)\n",
    "regress_values = xValues * slope + intercept\n",
    "line_eq = \"y = \" + str(round(slope,2)) + \"x + \" + str(round(intercept,2))\n",
    "plt.scatter(xValues, yValues)\n",
    "plt.plot(xValues,regress_values,\"r-\")\n",
    "plt.annotate(line_eq,(6,10),fontsize=15,color=\"red\")\n",
    "plt.title(\"Latitude vs. Humidty (10/21/20)\")\n",
    "plt.ylabel(\"Humidity (%)\")\n",
    "plt.xlabel(\"Latitude\")\n",
    "print(f\"The R-squared value is {rvalue**2}\")\n",
    "plt.show()\n"
   ]
  },
  {
   "cell_type": "code",
   "execution_count": null,
   "metadata": {},
   "outputs": [],
   "source": [
    "#As the latitude increases (the farther we get to the equator), the greater the humidity gets. \n",
    "#The r-squared value is 0.07 meaning there is a weak correlation between latitude and humidity."
   ]
  },
  {
   "cell_type": "markdown",
   "metadata": {},
   "source": [
    "####  Southern Hemisphere - Humidity (%) vs. Latitude Linear Regression"
   ]
  },
  {
   "cell_type": "code",
   "execution_count": 24,
   "metadata": {},
   "outputs": [
    {
     "name": "stdout",
     "output_type": "stream",
     "text": [
      "The R-squared value is 0.10637799948738247\n"
     ]
    },
    {
     "data": {
      "image/png": "[encoded data removed]",
      "text/plain": [
       "<Figure size 432x288 with 1 Axes>"
      ]
     },
     "metadata": {
      "needs_background": "light"
     },
     "output_type": "display_data"
    }
   ],
   "source": [
    "xValues = southInfo[\"Lat\"]\n",
    "yValues = southInfo[\"Humidity\"]\n",
    "\n",
    "(slope, intercept, rvalue, pvalue, stderr) = linregress(xValues, yValues)\n",
    "regress_values = xValues * slope + intercept\n",
    "line_eq = \"y = \" + str(round(slope,2)) + \"x + \" + str(round(intercept,2))\n",
    "plt.scatter(xValues, yValues)\n",
    "plt.plot(xValues,regress_values,\"r-\")\n",
    "plt.annotate(line_eq,(6,10),fontsize=15,color=\"red\")\n",
    "plt.title(\"Latitude vs. Humidty (10/21/20)\")\n",
    "plt.ylabel(\"Humidity (%)\")\n",
    "plt.xlabel(\"Latitude\")\n",
    "print(f\"The R-squared value is {rvalue**2}\")\n",
    "plt.show()\n"
   ]
  },
  {
   "cell_type": "code",
   "execution_count": null,
   "metadata": {},
   "outputs": [],
   "source": [
    "#As the latitude increases (the closer we get to the equator), the greater the humidity gets. \n",
    "#The r-squared value is 0.11 meaning there is a weak correlation between latitude and humidity."
   ]
  },
  {
   "cell_type": "markdown",
   "metadata": {},
   "source": [
    "####  Northern Hemisphere - Cloudiness (%) vs. Latitude Linear Regression"
   ]
  },
  {
   "cell_type": "code",
   "execution_count": 25,
   "metadata": {},
   "outputs": [
    {
     "name": "stdout",
     "output_type": "stream",
     "text": [
      "The R-squared value is 0.059814252347767376\n"
     ]
    },
    {
     "data": {
      "image/png": "[encoded data removed]",
      "text/plain": [
       "<Figure size 432x288 with 1 Axes>"
      ]
     },
     "metadata": {
      "needs_background": "light"
     },
     "output_type": "display_data"
    }
   ],
   "source": [
    "xValues = northInfo[\"Lat\"]\n",
    "yValues = northInfo[\"Cloudiness\"]\n",
    "\n",
    "(slope, intercept, rvalue, pvalue, stderr) = linregress(xValues, yValues)\n",
    "regress_values = xValues * slope + intercept\n",
    "line_eq = \"y = \" + str(round(slope,2)) + \"x + \" + str(round(intercept,2))\n",
    "plt.scatter(xValues, yValues)\n",
    "plt.plot(xValues,regress_values,\"r-\")\n",
    "plt.annotate(line_eq,(6,10),fontsize=15,color=\"red\")\n",
    "plt.title(\"Latitude vs. Cloudiness (10/21/20)\")\n",
    "plt.ylabel(\"Cloudiness\")\n",
    "plt.xlabel(\"Latitude\")\n",
    "print(f\"The R-squared value is {rvalue**2}\")\n",
    "plt.show()\n"
   ]
  },
  {
   "cell_type": "code",
   "execution_count": null,
   "metadata": {},
   "outputs": [],
   "source": [
    "#There's no significant correlation between latitude and cloudiness. The r-squared value is .06 which is a very weak correlation."
   ]
  },
  {
   "cell_type": "markdown",
   "metadata": {},
   "source": [
    "####  Southern Hemisphere - Cloudiness (%) vs. Latitude Linear Regression"
   ]
  },
  {
   "cell_type": "code",
   "execution_count": 26,
   "metadata": {},
   "outputs": [
    {
     "name": "stdout",
     "output_type": "stream",
     "text": [
      "The R-squared value is 0.019910663360198363\n"
     ]
    },
    {
     "data": {
      "image/png": "[encoded data removed]",
      "text/plain": [
       "<Figure size 432x288 with 1 Axes>"
      ]
     },
     "metadata": {
      "needs_background": "light"
     },
     "output_type": "display_data"
    }
   ],
   "source": [
    "xValues = southInfo[\"Lat\"]\n",
    "yValues = southInfo[\"Cloudiness\"]\n",
    "\n",
    "(slope, intercept, rvalue, pvalue, stderr) = linregress(xValues, yValues)\n",
    "regress_values = xValues * slope + intercept\n",
    "line_eq = \"y = \" + str(round(slope,2)) + \"x + \" + str(round(intercept,2))\n",
    "plt.scatter(xValues, yValues)\n",
    "plt.plot(xValues,regress_values,\"r-\")\n",
    "plt.annotate(line_eq,(6,10),fontsize=15,color=\"red\")\n",
    "plt.title(\"Latitude vs. Cloudiness (10/21/20)\")\n",
    "plt.ylabel(\"Cloudiness\")\n",
    "plt.xlabel(\"Latitude\")\n",
    "print(f\"The R-squared value is {rvalue**2}\")\n",
    "plt.show()\n"
   ]
  },
  {
   "cell_type": "code",
   "execution_count": null,
   "metadata": {},
   "outputs": [],
   "source": [
    "#There's no significant correlation between latitude and cloudiness. The r-squared value is .02 which is a very weak correlation."
   ]
  },
  {
   "cell_type": "markdown",
   "metadata": {},
   "source": [
    "####  Northern Hemisphere - Wind Speed (mph) vs. Latitude Linear Regression"
   ]
  },
  {
   "cell_type": "code",
   "execution_count": 27,
   "metadata": {},
   "outputs": [
    {
     "name": "stdout",
     "output_type": "stream",
     "text": [
      "The R-squared value is 0.013498484421390636\n"
     ]
    },
    {
     "data": {
      "image/png": "[encoded data removed]",
      "text/plain": [
       "<Figure size 432x288 with 1 Axes>"
      ]
     },
     "metadata": {
      "needs_background": "light"
     },
     "output_type": "display_data"
    }
   ],
   "source": [
    "xValues = northInfo[\"Lat\"]\n",
    "yValues = northInfo[\"Wind Speed\"]\n",
    "\n",
    "(slope, intercept, rvalue, pvalue, stderr) = linregress(xValues, yValues)\n",
    "regress_values = xValues * slope + intercept\n",
    "line_eq = \"y = \" + str(round(slope,2)) + \"x + \" + str(round(intercept,2))\n",
    "plt.scatter(xValues, yValues)\n",
    "plt.plot(xValues,regress_values,\"r-\")\n",
    "plt.annotate(line_eq,(6,10),fontsize=15,color=\"red\")\n",
    "plt.title(\"Latitude vs. Wind Speed (10/21/20)\")\n",
    "plt.ylabel(\"Wind Speed (mph)\")\n",
    "plt.xlabel(\"Latitude\")\n",
    "print(f\"The R-squared value is {rvalue**2}\")\n",
    "plt.show()\n"
   ]
  },
  {
   "cell_type": "code",
   "execution_count": null,
   "metadata": {},
   "outputs": [],
   "source": [
    "#There's no significant correlation between latitude and wind speed. \n",
    "#The r-squared value is .01 which is a very weak correlation."
   ]
  },
  {
   "cell_type": "markdown",
   "metadata": {},
   "source": [
    "####  Southern Hemisphere - Wind Speed (mph) vs. Latitude Linear Regression"
   ]
  },
  {
   "cell_type": "code",
   "execution_count": 37,
   "metadata": {},
   "outputs": [
    {
     "name": "stdout",
     "output_type": "stream",
     "text": [
      "The R-squared value is 0.04140540359004873\n"
     ]
    },
    {
     "data": {
      "image/png": "[encoded data removed]",
      "text/plain": [
       "<Figure size 432x288 with 1 Axes>"
      ]
     },
     "metadata": {
      "needs_background": "light"
     },
     "output_type": "display_data"
    }
   ],
   "source": [
    "xValues = southInfo[\"Lat\"]\n",
    "yValues = southInfo[\"Wind Speed\"]\n",
    "\n",
    "(slope, intercept, rvalue, pvalue, stderr) = linregress(xValues, yValues)\n",
    "regress_values = xValues * slope + intercept\n",
    "line_eq = \"y = \" + str(round(slope,2)) + \"x + \" + str(round(intercept,2))\n",
    "plt.scatter(xValues, yValues)\n",
    "plt.plot(xValues,regress_values,\"r-\")\n",
    "plt.annotate(line_eq,(6,10),fontsize=15,color=\"red\")\n",
    "plt.title(\"Latitude vs. Wind Speed (10/21/20)\")\n",
    "plt.ylabel(\"Wind Speed (mph)\")\n",
    "plt.xlabel(\"Latitude\")\n",
    "print(f\"The R-squared value is {rvalue**2}\")\n",
    "plt.show()\n"
   ]
  },
  {
   "cell_type": "code",
   "execution_count": null,
   "metadata": {},
   "outputs": [],
   "source": [
    "#There's no significant correlation between latitude and wind speed. \n",
    "#The r-squared value is .04 which is a very weak correlation."
   ]
  }
 ],
 "metadata": {
  "anaconda-cloud": {},
  "kernel_info": {
   "name": "python3"
  },
  "kernelspec": {
   "display_name": "Python 3",
   "language": "python",
   "name": "python3"
  },
  "language_info": {
   "codemirror_mode": {
    "name": "ipython",
    "version": 3
   },
   "file_extension": ".py",
   "mimetype": "text/x-python",
   "name": "python",
   "nbconvert_exporter": "python",
   "pygments_lexer": "ipython3",
   "version": "3.8.3"
  },
  "latex_envs": {
   "LaTeX_envs_menu_present": true,
   "autoclose": false,
   "autocomplete": true,
   "bibliofile": "biblio.bib",
   "cite_by": "apalike",
   "current_citInitial": 1,
   "eqLabelWithNumbers": true,
   "eqNumInitial": 1,
   "hotkeys": {
    "equation": "Ctrl-E",
    "itemize": "Ctrl-I"
   },
   "labels_anchors": false,
   "latex_user_defs": false,
   "report_style_numbering": false,
   "user_envs_cfg": false
  },
  "nteract": {
   "version": "0.12.3"
  }
 },
 "nbformat": 4,
 "nbformat_minor": 2
}
